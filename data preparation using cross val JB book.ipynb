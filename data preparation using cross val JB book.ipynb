{
 "cells": [
  {
   "cell_type": "markdown",
   "id": "b1eb192b-957f-443e-a6d0-a0c450ee257b",
   "metadata": {},
   "source": [
    "# Correct way of data preparation - cross validation\n",
    "### Avoid data leakage"
   ]
  },
  {
   "cell_type": "code",
   "execution_count": 14,
   "id": "fdfd1b73-766d-4917-b9d9-568ff1bd9ba9",
   "metadata": {},
   "outputs": [],
   "source": [
    "# correct data preparation for model evaluation with k-fold cross-validation\n",
    "# imports\n",
    "from numpy import mean\n",
    "from numpy import std\n",
    "from sklearn.datasets import make_classification\n",
    "from sklearn.model_selection import cross_val_score\n",
    "from sklearn.model_selection import RepeatedStratifiedKFold\n",
    "from sklearn.preprocessing import MinMaxScaler\n",
    "from sklearn.linear_model import LogisticRegression\n",
    "from sklearn.pipeline import Pipeline\n"
   ]
  },
  {
   "cell_type": "code",
   "execution_count": 15,
   "id": "840ebb36-03e9-4eb1-b929-0be0994a4f2c",
   "metadata": {},
   "outputs": [],
   "source": [
    "# define dataset\n",
    "X, y = make_classification(n_samples=1000, n_features=20, n_informative=15, n_redundant=5, random_state=7)\n"
   ]
  },
  {
   "cell_type": "markdown",
   "id": "741e1241-8bf9-414e-a01c-63783587ec0c",
   "metadata": {},
   "source": [
    "_\"Data preparation without data leakage when using cross-validation is slightly more challenging.\n",
    "It requires that the data preparation method is prepared on the training set and applied to the\n",
    "train and test sets within the cross-validation procedure, e.g. the groups of folds of rows. We\n",
    "can achieve this by *defining a modeling pipeline that defines a sequence of data preparation\n",
    "steps to perform* and ending in the model to fit and evaluate.\"_ - data preparation for machine learning, Jason Brownlee pg 34\n"
   ]
  },
  {
   "cell_type": "code",
   "execution_count": 17,
   "id": "b9c75b3e-0a7b-41a2-a516-184a1ad7a4b6",
   "metadata": {},
   "outputs": [],
   "source": [
    "# define the pipeline\n",
    "steps = list()\n",
    "steps.append(('scaler', MinMaxScaler()))\n",
    "steps.append(('model', LogisticRegression()))\n",
    "pipeline = Pipeline(steps=steps)"
   ]
  },
  {
   "cell_type": "code",
   "execution_count": 18,
   "id": "7f35d995-96ae-4008-8b52-fd7794c4c818",
   "metadata": {},
   "outputs": [],
   "source": [
    "# evaluation procedures using RepeatedStratifiedKFold\n",
    "cv = RepeatedStratifiedKFold(n_splits=10, n_repeats=3, random_state=1)"
   ]
  },
  {
   "cell_type": "code",
   "execution_count": 19,
   "id": "9121a010-c2b6-4a3c-b396-dcd7f82f7223",
   "metadata": {},
   "outputs": [
    {
     "data": {
      "text/plain": [
       "RepeatedStratifiedKFold(n_repeats=3, n_splits=10, random_state=1)"
      ]
     },
     "execution_count": 19,
     "metadata": {},
     "output_type": "execute_result"
    }
   ],
   "source": [
    "cv"
   ]
  },
  {
   "cell_type": "code",
   "execution_count": 20,
   "id": "b54c974b-193d-4ad8-80cf-0acdfd081105",
   "metadata": {},
   "outputs": [],
   "source": [
    "# Model evaluation using cross validation\n",
    "eval = cross_val_score(pipeline, X, y, scoring='accuracy', cv=cv, n_jobs=-1)"
   ]
  },
  {
   "cell_type": "code",
   "execution_count": 21,
   "id": "4be624b6-5a05-449c-8e62-94ac5fc72346",
   "metadata": {},
   "outputs": [
    {
     "data": {
      "text/plain": [
       "array([0.86, 0.91, 0.87, 0.81, 0.83, 0.84, 0.81, 0.84, 0.88, 0.84, 0.84,\n",
       "       0.86, 0.85, 0.83, 0.89, 0.88, 0.8 , 0.97, 0.84, 0.84, 0.81, 0.88,\n",
       "       0.81, 0.85, 0.89, 0.88, 0.87, 0.84, 0.84, 0.87])"
      ]
     },
     "execution_count": 21,
     "metadata": {},
     "output_type": "execute_result"
    }
   ],
   "source": [
    "eval"
   ]
  },
  {
   "cell_type": "code",
   "execution_count": 22,
   "id": "ae6ec239-6def-4bb4-8f11-9911c08ee8ea",
   "metadata": {},
   "outputs": [
    {
     "name": "stdout",
     "output_type": "stream",
     "text": [
      "Accuracy: 85.43 (3.47)\n"
     ]
    }
   ],
   "source": [
    "# performance reporting\n",
    "print('Accuracy: %.2f (%.2f)' % (mean(eval)*100, std(eval)*100))"
   ]
  },
  {
   "cell_type": "markdown",
   "id": "ef64db89-aff4-4112-bdc8-ae48f41bb0f4",
   "metadata": {},
   "source": [
    "\"Running the example normalizes the data correctly within the cross-validation folds of the\n",
    "evaluation procedure to avoid data leakage.\""
   ]
  },
  {
   "cell_type": "code",
   "execution_count": null,
   "id": "f6a77ee5-e4ae-4d0c-b07d-f10d4f44b986",
   "metadata": {},
   "outputs": [],
   "source": []
  }
 ],
 "metadata": {
  "kernelspec": {
   "display_name": "anaconda-panel-2023.05-py310",
   "language": "python",
   "name": "conda-env-anaconda-panel-2023.05-py310-py"
  },
  "language_info": {
   "codemirror_mode": {
    "name": "ipython",
    "version": 3
   },
   "file_extension": ".py",
   "mimetype": "text/x-python",
   "name": "python",
   "nbconvert_exporter": "python",
   "pygments_lexer": "ipython3",
   "version": "3.11.5"
  }
 },
 "nbformat": 4,
 "nbformat_minor": 5
}
